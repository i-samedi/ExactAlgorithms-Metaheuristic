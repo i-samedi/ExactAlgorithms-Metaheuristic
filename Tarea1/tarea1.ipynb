{
 "cells": [
  {
   "cell_type": "markdown",
   "metadata": {},
   "source": [
    "# Tarea 1 - Ignacio Santiago Medina Díaz"
   ]
  },
  {
   "cell_type": "markdown",
   "metadata": {},
   "source": [
    "Para comenzar con la primera tarea del curso, se comenzara a modelar el problema, identificando sus variables, dominio, restricciones y su función objetivo.\n",
    "\n"
   ]
  },
  {
   "cell_type": "markdown",
   "metadata": {},
   "source": [
    "## Identificando Datos Iniciales"
   ]
  },
  {
   "cell_type": "markdown",
   "metadata": {},
   "source": [
    "Primero importaremos Time para poder medir el tiempo que se demora al encontrar la solución óptima."
   ]
  },
  {
   "cell_type": "code",
   "execution_count": 199,
   "metadata": {},
   "outputs": [],
   "source": [
    "import time"
   ]
  },
  {
   "cell_type": "markdown",
   "metadata": {},
   "source": [
    "1. Se comenzará definiendo las variables, en este caso, las comunas dentro de un Arreglo 1x15."
   ]
  },
  {
   "cell_type": "code",
   "execution_count": 200,
   "metadata": {},
   "outputs": [
    {
     "name": "stdout",
     "output_type": "stream",
     "text": [
      "Variables: ['C1', 'C2', 'C3', 'C4', 'C5', 'C6', 'C7', 'C8', 'C9', 'C10', 'C11', 'C12', 'C13', 'C14', 'C15']\n"
     ]
    }
   ],
   "source": [
    "# Lista de comunas de la región de Brisketiana C[1,15]\n",
    "comunas = [1, 2, 3, 4, 5, 6, 7, 8, 9, 10, 11, 12, 13, 14, 15]\n",
    "\n",
    "# Lista de Variables (representa la decisión de contruir o no un centro de vacunación)\n",
    "variables = [f\"C{comuna}\" for comuna in comunas]\n",
    "print(\"Variables:\", variables)"
   ]
  },
  {
   "cell_type": "markdown",
   "metadata": {},
   "source": [
    "2. Definimos el dominio para el problema. Para este caso, el dominio es Binario, siendo:\n",
    "    - 0 : NO se construye un centro en la comuna.\n",
    "    - 1 : SI se construye un centro en la comuna."
   ]
  },
  {
   "cell_type": "code",
   "execution_count": 201,
   "metadata": {},
   "outputs": [
    {
     "name": "stdout",
     "output_type": "stream",
     "text": [
      "Dominio de cada comuna de la región: \n",
      "C1: [0, 1]\n",
      "C2: [0, 1]\n",
      "C3: [0, 1]\n",
      "C4: [0, 1]\n",
      "C5: [0, 1]\n",
      "C6: [0, 1]\n",
      "C7: [0, 1]\n",
      "C8: [0, 1]\n",
      "C9: [0, 1]\n",
      "C10: [0, 1]\n",
      "C11: [0, 1]\n",
      "C12: [0, 1]\n",
      "C13: [0, 1]\n",
      "C14: [0, 1]\n",
      "C15: [0, 1]\n"
     ]
    }
   ],
   "source": [
    "dominios = {f\"C{comuna}\": [0, 1] for comuna in comunas}\n",
    "print(f\"Dominio de cada comuna de la región: \")\n",
    "for comuna in dominios:\n",
    "    print(f\"{comuna}: {dominios[comuna]}\")\n"
   ]
  },
  {
   "cell_type": "markdown",
   "metadata": {},
   "source": [
    "---\n",
    "Con esta información, podemos identificar el espacio de busqueda del COP. El problema involucra 15 comunas, y para cada una de ellas se debe tomar una decisión: construir un centro de vacunación (representado como 1) o no construirlo (representado como 0). Esto implica que cada comuna tiene 2 opciones posibles. Dado que las decisiones son independientes para cada comuna y hay 15 en total, el número de posibles combinaciones de decisiones se calcula como: 2^15 = 32.768\n",
    "\n",
    "Por lo tanto, el espacio de búsqueda del COP está compuesto por 32,768 posibles combinaciones. Cada una de estas combinaciones representa una asignación distinta de valores binarios (0 o 1) a las 15 comunas, es decir, una posible configuración de dónde se construyen los centros de vacunación.\n",
    "\n",
    "---\n",
    "\n"
   ]
  },
  {
   "cell_type": "markdown",
   "metadata": {},
   "source": [
    "3. Definimos los costos por comuna siendo este un valor a tomar en cuenta para minimizar la funcion y obtener la solución óptima."
   ]
  },
  {
   "cell_type": "code",
   "execution_count": 202,
   "metadata": {},
   "outputs": [
    {
     "name": "stdout",
     "output_type": "stream",
     "text": [
      "Costos de construccion de centro de vacunación por cada comunas: \n",
      "C1: 60\n",
      "C2: 30\n",
      "C3: 60\n",
      "C4: 70\n",
      "C5: 130\n",
      "C6: 60\n",
      "C7: 70\n",
      "C8: 60\n",
      "C9: 80\n",
      "C10: 70\n",
      "C11: 50\n",
      "C12: 90\n",
      "C13: 30\n",
      "C14: 30\n",
      "C15: 100\n"
     ]
    }
   ],
   "source": [
    "costos = {\n",
    "    \"C1\": 60, \"C2\": 30, \"C3\": 60, \"C4\": 70, \"C5\": 130,\n",
    "    \"C6\": 60, \"C7\": 70, \"C8\": 60, \"C9\": 80, \"C10\": 70, \n",
    "    \"C11\": 50, \"C12\": 90, \"C13\": 30, \"C14\": 30, \"C15\": 100\n",
    "}\n",
    "print(\"Costos de construccion de centro de vacunación por cada comunas: \")\n",
    "for comuna in costos:\n",
    "    print(f\"{comuna}: {costos[comuna]}\")\n"
   ]
  },
  {
   "cell_type": "markdown",
   "metadata": {},
   "source": [
    "4. Realizamos el diccionario para indicar la cobertura que satisface el crear un centro medico en cada una de ellas. Hay que tomar en cuenta que la cobertura satisface a cada comuna y a si misma."
   ]
  },
  {
   "cell_type": "code",
   "execution_count": 203,
   "metadata": {},
   "outputs": [
    {
     "name": "stdout",
     "output_type": "stream",
     "text": [
      "Cantidad de comunas cubiertas por cada comuna: \n",
      "C1: 5 comunas - ['C1', 'C2', 'C3', 'C4', 'C13']\n",
      "C2: 5 comunas - ['C2', 'C1', 'C4', 'C12', 'C15']\n",
      "C3: 6 comunas - ['C3', 'C1', 'C4', 'C5', 'C6', 'C13']\n",
      "C4: 6 comunas - ['C4', 'C1', 'C2', 'C3', 'C5', 'C12']\n",
      "C5: 8 comunas - ['C5', 'C3', 'C4', 'C6', 'C7', 'C8', 'C9', 'C12']\n",
      "C6: 4 comunas - ['C6', 'C3', 'C5', 'C9']\n",
      "C7: 8 comunas - ['C7', 'C5', 'C8', 'C10', 'C11', 'C12', 'C14', 'C15']\n",
      "C8: 5 comunas - ['C8', 'C5', 'C7', 'C9', 'C10']\n",
      "C9: 6 comunas - ['C9', 'C5', 'C6', 'C8', 'C10', 'C11']\n",
      "C10: 5 comunas - ['C10', 'C7', 'C8', 'C9', 'C11']\n",
      "C11: 5 comunas - ['C11', 'C7', 'C9', 'C10', 'C14']\n",
      "C12: 6 comunas - ['C12', 'C2', 'C4', 'C5', 'C7', 'C15']\n",
      "C13: 3 comunas - ['C13', 'C1', 'C3']\n",
      "C14: 4 comunas - ['C14', 'C7', 'C11', 'C15']\n",
      "C15: 5 comunas - ['C15', 'C2', 'C7', 'C12', 'C14']\n"
     ]
    }
   ],
   "source": [
    "cobertura = {\n",
    "    \"C1\": [\"C1\", \"C2\", \"C3\", \"C4\", \"C13\"],\n",
    "    \"C2\": [\"C2\", \"C1\", \"C4\", \"C12\", \"C15\"],\n",
    "    \"C3\": [\"C3\", \"C1\", \"C4\", \"C5\", \"C6\", \"C13\"],\n",
    "    \"C4\": [\"C4\", \"C1\", \"C2\", \"C3\", \"C5\", \"C12\"],\n",
    "    \"C5\": [\"C5\", \"C3\", \"C4\", \"C6\", \"C7\", \"C8\", \"C9\", \"C12\"],\n",
    "    \"C6\": [\"C6\", \"C3\", \"C5\", \"C9\"],           \n",
    "    \"C7\": [\"C7\", \"C5\", \"C8\", \"C10\", \"C11\", \"C12\", \"C14\", \"C15\"],      \n",
    "    \"C8\": [\"C8\", \"C5\", \"C7\", \"C9\", \"C10\"],\n",
    "    \"C9\": [\"C9\", \"C5\", \"C6\", \"C8\", \"C10\", \"C11\"],\n",
    "    \"C10\": [\"C10\", \"C7\", \"C8\", \"C9\", \"C11\"],\n",
    "    \"C11\": [\"C11\", \"C7\", \"C9\", \"C10\", \"C14\"],\n",
    "    \"C12\": [\"C12\", \"C2\", \"C4\", \"C5\", \"C7\", \"C15\"],\n",
    "    \"C13\": [\"C13\", \"C1\", \"C3\"],\n",
    "    \"C14\": [\"C14\", \"C7\", \"C11\", \"C15\"],\n",
    "    \"C15\": [\"C15\", \"C2\", \"C7\", \"C12\", \"C14\"]        \n",
    "}\n",
    "print(\"Cantidad de comunas cubiertas por cada comuna: \")\n",
    "for comuna in cobertura:\n",
    "    cantidad = len(cobertura[comuna])\n",
    "    print(f\"{comuna}: {cantidad} comunas - {cobertura[comuna]}\")"
   ]
  },
  {
   "cell_type": "markdown",
   "metadata": {},
   "source": [
    "## Algoritmo de Backtracking con Forward Checking (sin heuristica)"
   ]
  },
  {
   "cell_type": "markdown",
   "metadata": {},
   "source": [
    "Se implementara un algoritmo de busqueda con backtracking y forward checking. En otras palabras, con \"backtracking\" explorará el espacio de soluciones, retrocediendo cuando una rama no lleva una solución valida. Por otro lado, \"forward checking\" ayudara a verificar las restricciones futuras para encontrar el mejor espacio de busqueda mas rapido.\n",
    "\n",
    "En el algoritmo, en caso de tener todas las comunas cubiertas, comparará con la mejor solución actual y la actualizará en el caso de ser mejor. En el caso de que no queden variables por asignar, termina la busqueda.\n",
    "\n",
    "Hay que tener en cuenta que para cada variable, prueba asignarle 1 (construir) y 0 (no construir), verificando que las restricciones de cobertura se mantengan."
   ]
  },
  {
   "cell_type": "code",
   "execution_count": 204,
   "metadata": {},
   "outputs": [],
   "source": [
    "def backtracking_sin_heuristica(asignacion, variables_no_asignadas, S_j, costo_actual, mejor_solucion, mejor_costo):\n",
    "    if not S_j:  # Si todas las comunas están cubiertas\n",
    "        if costo_actual < mejor_costo[0]:\n",
    "            mejor_solucion[0] = asignacion.copy()\n",
    "            mejor_costo[0] = costo_actual\n",
    "        return\n",
    "\n",
    "    if not variables_no_asignadas:  # Si no quedan variables por asignar\n",
    "        return\n",
    "\n",
    "    Ci = variables_no_asignadas[0]  # Tomamos la primera variable no asignada\n",
    "    nuevas_variables = variables_no_asignadas[1:]\n",
    "\n",
    "    # Asignar Ci = 1 (construir)\n",
    "    asignacion[Ci] = 1\n",
    "    nuevo_S_j = {Cj: S_j[Cj].copy() for Cj in S_j if Cj not in cobertura[Ci]}\n",
    "    backtracking_sin_heuristica(asignacion, nuevas_variables, nuevo_S_j, costo_actual + costos[Ci], mejor_solucion, mejor_costo)\n",
    "\n",
    "    # Asignar Ci = 0 (no construir)\n",
    "    asignacion[Ci] = 0\n",
    "    nuevo_S_j = {Cj: S_j[Cj].copy() for Cj in S_j}\n",
    "    consistente = True\n",
    "    for Cj in cobertura[Ci]:\n",
    "        if Cj in nuevo_S_j:\n",
    "            nuevo_S_j[Cj].remove(Ci)\n",
    "            if not nuevo_S_j[Cj]:\n",
    "                consistente = False\n",
    "                break\n",
    "    if consistente:\n",
    "        backtracking_sin_heuristica(asignacion, nuevas_variables, nuevo_S_j, costo_actual, mejor_solucion, mejor_costo)\n",
    "    \n",
    "    del asignacion[Ci]  # Limpiar asignación para backtracking"
   ]
  },
  {
   "cell_type": "markdown",
   "metadata": {},
   "source": [
    "En este segundo apartado, almacenaremo las decisiones tomadas, agregando 1 o 0 para cada variable dependiendo de su restricción indicando en cada una de ellas que centros pueden cubrir cada comuna, con el fin de encontrar la mejor solución (empezando en NONE) y el mejor costro entre cada una de ellas (emprezando en 0).\n"
   ]
  },
  {
   "cell_type": "code",
   "execution_count": 205,
   "metadata": {},
   "outputs": [],
   "source": [
    "#\n",
    "asignacion = {}\n",
    "variables_no_asignadas = variables.copy()  # Lista para mantener el orden\n",
    "S_j = {f\"C{j}\": {Ci for Ci in variables if f\"C{j}\" in cobertura[Ci]} for j in comunas}\n",
    "mejor_solucion = [None]\n",
    "mejor_costo = [float('inf')]"
   ]
  },
  {
   "cell_type": "markdown",
   "metadata": {},
   "source": [
    "A su vez inicializamos en tiempo de inicio antes de ejecutar el algoritmo."
   ]
  },
  {
   "cell_type": "code",
   "execution_count": 206,
   "metadata": {},
   "outputs": [],
   "source": [
    "tiempo_inicio = time.time()"
   ]
  },
  {
   "cell_type": "markdown",
   "metadata": {},
   "source": [
    "Por ultimo, ejecutamos el algoritmo y finalmente calculamos el tiempo transcurrido al iniciar y finalizar la ejecución. Finalmente imprimimos los resultados obtenidos."
   ]
  },
  {
   "cell_type": "code",
   "execution_count": 207,
   "metadata": {},
   "outputs": [
    {
     "name": "stdout",
     "output_type": "stream",
     "text": [
      "Mejor solución encontrada (sin heurística):\n",
      "Construir en C2 (costo: 30)\n",
      "Construir en C9 (costo: 80)\n",
      "Construir en C13 (costo: 30)\n",
      "Construir en C14 (costo: 30)\n",
      "\n",
      "-> Costo total: '170'\n",
      "-> Tiempo de ejecución: '0.016082' segundos\n"
     ]
    }
   ],
   "source": [
    "backtracking_sin_heuristica(asignacion, variables_no_asignadas, S_j, 0, mejor_solucion, mejor_costo)\n",
    "\n",
    "tiempo_fin = time.time()\n",
    "tiempo_ejecucion = tiempo_fin - tiempo_inicio\n",
    "\n",
    "print(\"Mejor solución encontrada (sin heurística):\")\n",
    "for Ci, valor in mejor_solucion[0].items():\n",
    "    if valor == 1:\n",
    "        print(f\"Construir en {Ci} (costo: {costos[Ci]})\")\n",
    "print(f\"\\n-> Costo total: '{mejor_costo[0]}'\")\n",
    "print(f\"-> Tiempo de ejecución: '{tiempo_ejecucion:4f}' segundos\")"
   ]
  },
  {
   "cell_type": "markdown",
   "metadata": {},
   "source": [
    "## Algoritmo con Heuristica enfocado en el Algoritmo Greedy"
   ]
  },
  {
   "cell_type": "code",
   "execution_count": 208,
   "metadata": {},
   "outputs": [],
   "source": [
    "\n",
    "\n",
    "# Algoritmo Greedy\n",
    "def greedy_cobertura(variables, costos, cobertura):\n",
    "    # Conjunto de comunas no cubiertas\n",
    "    no_cubiertas = set(variables)\n",
    "    # Solución: comunas donde se construirán centros\n",
    "    solucion = {}\n",
    "    costo_total = 0\n",
    "\n",
    "    while no_cubiertas:\n",
    "        mejor_comuna = None\n",
    "        mejor_eficiencia = -1\n",
    "\n",
    "        # Evaluamos cada comuna candidata\n",
    "        for comuna in variables:\n",
    "            if comuna not in solucion:  # Solo comunas no seleccionadas\n",
    "                cubre_nuevas = [c for c in cobertura[comuna] if c in no_cubiertas]\n",
    "                num_cubre_nuevas = len(cubre_nuevas)\n",
    "                if num_cubre_nuevas > 0:\n",
    "                    eficiencia = num_cubre_nuevas / costos[comuna]\n",
    "                    if eficiencia > mejor_eficiencia:\n",
    "                        mejor_eficiencia = eficiencia\n",
    "                        mejor_comuna = comuna\n",
    "                        mejores_cubre_nuevas = cubre_nuevas\n",
    "\n",
    "        if mejor_comuna is None:\n",
    "            raise ValueError(\"No se puede cubrir todas las comunas.\")\n",
    "\n",
    "        # Seleccionamos la mejor comuna\n",
    "        solucion[mejor_comuna] = 1\n",
    "        costo_total += costos[mejor_comuna]\n",
    "        # Actualizamos las comunas no cubiertas\n",
    "        for c in mejores_cubre_nuevas:\n",
    "            no_cubiertas.remove(c)\n",
    "\n",
    "    return solucion, costo_total\n",
    "\n"
   ]
  },
  {
   "cell_type": "code",
   "execution_count": 211,
   "metadata": {},
   "outputs": [
    {
     "name": "stdout",
     "output_type": "stream",
     "text": [
      "Solución Greedy:\n",
      "Construir en C2 (costo: 30)\n",
      "Construir en C11 (costo: 50)\n",
      "Construir en C3 (costo: 60)\n",
      "Construir en C8 (costo: 60)\n",
      "Costo total: 200\n"
     ]
    }
   ],
   "source": [
    "# Ejecutamos el algoritmo\n",
    "solucion, costo = greedy_cobertura(variables, costos, cobertura)\n",
    "\n",
    "# Mostramos los resultados\n",
    "print(\"Solución Greedy:\")\n",
    "for comuna in solucion:\n",
    "    print(f\"Construir en {comuna} (costo: {costos[comuna]})\")\n",
    "print(f\"Costo total: {costo}\")"
   ]
  }
 ],
 "metadata": {
  "kernelspec": {
   "display_name": "Python 3",
   "language": "python",
   "name": "python3"
  },
  "language_info": {
   "codemirror_mode": {
    "name": "ipython",
    "version": 3
   },
   "file_extension": ".py",
   "mimetype": "text/x-python",
   "name": "python",
   "nbconvert_exporter": "python",
   "pygments_lexer": "ipython3",
   "version": "3.13.1"
  }
 },
 "nbformat": 4,
 "nbformat_minor": 2
}
